{
 "cells": [
  {
   "cell_type": "code",
   "execution_count": 2,
   "id": "59d76abb",
   "metadata": {},
   "outputs": [
    {
     "name": "stdout",
     "output_type": "stream",
     "text": [
      "0.00010019994806498289\n",
      "0.00011330004781484604\n"
     ]
    }
   ],
   "source": [
    "# List\n",
    "import timeit\n",
    "\n",
    "l1 = list(range(10))\n",
    "print(timeit.timeit('l1', number = 10000, globals = globals()))\n",
    "\n",
    "l2 = list(range(10_000_000))\n",
    "print(timeit.timeit('l2', number = 10000, globals = globals()))"
   ]
  },
  {
   "cell_type": "code",
   "execution_count": 4,
   "id": "90f2077b",
   "metadata": {},
   "outputs": [
    {
     "name": "stdout",
     "output_type": "stream",
     "text": [
      "6\n",
      "[5, 8, 1, 3, 2, 6, 42]\n",
      "7\n"
     ]
    }
   ],
   "source": [
    "# 리스트에서 특정 항목 찾기\n",
    "def linear_search(needle, array):\n",
    "    for i, item in enumerate(array):\n",
    "        if item == needle:\n",
    "            return i\n",
    "        return -1\n",
    "    \n",
    "# append\n",
    "numbers = [5, 8, 1, 3, 2, 6]\n",
    "print(len(numbers))\n",
    "\n",
    "numbers.append(42)\n",
    "print(numbers)\n",
    "print(len(numbers))"
   ]
  },
  {
   "cell_type": "code",
   "execution_count": 5,
   "id": "e0c6bd0c",
   "metadata": {},
   "outputs": [
    {
     "name": "stdout",
     "output_type": "stream",
     "text": [
      "List 생성 속도:, 1.475446초\n",
      "Tuple 생성 속도:, 1.539603초\n"
     ]
    }
   ],
   "source": [
    "# 리스트 & 튜플 생성 속도 비교\n",
    "import timeit\n",
    "\n",
    "list_time = timeit.timeit(stmt = 'list(range(10_000_000))', number = 10)\n",
    "tuple_time = timeit.timeit(stmt = 'tuple(range(10_000_000))', number = 10)\n",
    "\n",
    "print(f'List 생성 속도:, {list_time:.6f}초')\n",
    "print(f'Tuple 생성 속도:, {tuple_time:.6f}초')"
   ]
  },
  {
   "cell_type": "code",
   "execution_count": 6,
   "id": "1800ea88",
   "metadata": {},
   "outputs": [
    {
     "name": "stdout",
     "output_type": "stream",
     "text": [
      "List 메모리 사용량: 80000056 bytes\n",
      "Tuple 메모리 사용량: 80000040 bytes\n"
     ]
    }
   ],
   "source": [
    "# 리스트 & 튜플 메모리 사용량 비교\n",
    "import sys\n",
    "\n",
    "list_data = list(range(10_000_000))\n",
    "tuple_data = tuple(list_data)\n",
    "\n",
    "print(f'List 메모리 사용량: {sys.getsizeof(list_data)} bytes')\n",
    "print(f'Tuple 메모리 사용량: {sys.getsizeof(tuple_data)} bytes')"
   ]
  },
  {
   "cell_type": "code",
   "execution_count": 7,
   "id": "43d1b53b",
   "metadata": {},
   "outputs": [
    {
     "name": "stdout",
     "output_type": "stream",
     "text": [
      "List sum() 실행 시간:, 0.326012초\n",
      "Tuple sum() 실행 시간:, 0.309703초\n"
     ]
    }
   ],
   "source": [
    "# 리스트 & 튜플 Sum 연산 비교\n",
    "setup_list = \"\"\"\n",
    "list_data = list(range(10_000_000))\n",
    "\"\"\"\n",
    "\n",
    "setup_tuple = \"\"\"\n",
    "tuple_data = tuple(range(10_000_000))\n",
    "\"\"\"\n",
    "\n",
    "list_time = timeit.timeit('sum(list_data)', setup = setup_list, number = 10)\n",
    "tuple_time = timeit.timeit('sum(tuple_data)', setup = setup_tuple, number = 10)\n",
    "\n",
    "print(f'List sum() 실행 시간:, {list_time:.6f}초')\n",
    "print(f'Tuple sum() 실행 시간:, {tuple_time:.6f}초')"
   ]
  },
  {
   "cell_type": "code",
   "execution_count": 8,
   "id": "499711ab",
   "metadata": {},
   "outputs": [
    {
     "name": "stdout",
     "output_type": "stream",
     "text": [
      "List 반복문 속도:, 0.455650초\n",
      "Tuple 반복문 속도:, 0.451376초\n"
     ]
    }
   ],
   "source": [
    "# 리스트 & 튜플 반복문 실행 속도 비교\n",
    "setup_list = \"\"\"\n",
    "list_data = [i for i in range(10_000_000)]\n",
    "\"\"\"\n",
    "\n",
    "setup_tuple = \"\"\"\n",
    "tuple_data = tuple(range(10_000_000))\n",
    "\"\"\"\n",
    "\n",
    "list_time = timeit.timeit('for x in list_data: pass', setup = setup_list, number = 10)\n",
    "tuple_time = timeit.timeit('for x in tuple_data: pass', setup = setup_tuple, number = 10)\n",
    "\n",
    "print(f'List 반복문 속도:, {list_time:.6f}초')\n",
    "print(f'Tuple 반복문 속도:, {tuple_time:.6f}초')"
   ]
  },
  {
   "cell_type": "code",
   "execution_count": 9,
   "id": "45f32f5f",
   "metadata": {},
   "outputs": [
    {
     "name": "stdout",
     "output_type": "stream",
     "text": [
      "List 인덱스 접근 속도:, 0.815532초\n",
      "Tuple 인덱스 접근 속도:, 0.814962초\n"
     ]
    }
   ],
   "source": [
    "# 리스트 & 튜플 인덱스 접근 속도 비교\n",
    "setup_list = \"\"\"\n",
    "import random\n",
    "list_data = [i for i in range(10_000_000)]\n",
    "indices = [random.randint(0, 10_000_000 -1) for _ in range(1_000_000)]\n",
    "\"\"\"\n",
    "\n",
    "setup_tuple = \"\"\"\n",
    "import random\n",
    "tuple_data = tuple(range(10_000_000))\n",
    "indices = [random.randint(0, 10_000_000 -1) for _ in range(1_000_000)]\n",
    "\"\"\"\n",
    "\n",
    "list_time = timeit.timeit('for i in indices: x = list_data[i]', setup = setup_list, number = 10)\n",
    "tuple_time = timeit.timeit('for i in indices: x = tuple_data[i]', setup = setup_tuple, number = 10)\n",
    "\n",
    "print(f'List 인덱스 접근 속도:, {list_time:.6f}초')\n",
    "print(f'Tuple 인덱스 접근 속도:, {tuple_time:.6f}초')"
   ]
  }
 ],
 "metadata": {
  "kernelspec": {
   "display_name": "base",
   "language": "python",
   "name": "python3"
  },
  "language_info": {
   "codemirror_mode": {
    "name": "ipython",
    "version": 3
   },
   "file_extension": ".py",
   "mimetype": "text/x-python",
   "name": "python",
   "nbconvert_exporter": "python",
   "pygments_lexer": "ipython3",
   "version": "3.12.7"
  }
 },
 "nbformat": 4,
 "nbformat_minor": 5
}
