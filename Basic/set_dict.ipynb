{
 "cells": [
  {
   "cell_type": "code",
   "execution_count": 20,
   "id": "186b4e95",
   "metadata": {},
   "outputs": [
    {
     "data": {
      "text/plain": [
       "2"
      ]
     },
     "execution_count": 20,
     "metadata": {},
     "output_type": "execute_result"
    }
   ],
   "source": [
    "# List에서 유니크한 key 찾기\n",
    "phonebook = [\n",
    "    ('John Doe', '555-555-5555'),\n",
    "    ('Albert Einstein', '212-555-5555')\n",
    "]\n",
    "\n",
    "def list_unique_names(phonebook):\n",
    "    unique_names = []\n",
    "    for name, phonenumber in phonebook:\n",
    "        first_name, last_name = name.split(' ', 1)\n",
    "        if first_name not in unique_names:\n",
    "            unique_names.append(first_name)    \n",
    "    return len(unique_names)\n",
    "\n",
    "list_unique_names(phonebook)"
   ]
  },
  {
   "cell_type": "code",
   "execution_count": null,
   "id": "033e4c25",
   "metadata": {},
   "outputs": [
    {
     "data": {
      "text/plain": [
       "2"
      ]
     },
     "execution_count": 16,
     "metadata": {},
     "output_type": "execute_result"
    }
   ],
   "source": [
    "# Set에서 유니크한 key 찾기\n",
    "phonebook = {\n",
    "    'John Doe': '555-555-5555',\n",
    "    'Albert Einstein': '212-555-5555'\n",
    "}\n",
    "\n",
    "def set_unique_names(phonebook):\n",
    "    unique_names = set()\n",
    "    for name, phonenumber in phonebook.items():\n",
    "        first_name, last_name = name.split(' ', 1)\n",
    "        unique_names.add(first_name)\n",
    "    \n",
    "    return len(unique_names)\n",
    "\n",
    "set_unique_names(phonebook)"
   ]
  },
  {
   "cell_type": "code",
   "execution_count": 33,
   "id": "f824a2c1",
   "metadata": {},
   "outputs": [
    {
     "data": {
      "text/plain": [
       "{<__main__.Point at 0x2086d3ad9a0>, <__main__.Point at 0x2086d75be90>}"
      ]
     },
     "execution_count": 33,
     "metadata": {},
     "output_type": "execute_result"
    }
   ],
   "source": [
    "class Point(object):\n",
    "    def __init__(self, x, y):\n",
    "        self.x, self.y = x, y\n",
    "\n",
    "p1 = Point(1, 1)\n",
    "p2 = Point(1, 1)\n",
    "set([p1, p2])"
   ]
  },
  {
   "cell_type": "code",
   "execution_count": 34,
   "id": "e66c068e",
   "metadata": {},
   "outputs": [
    {
     "data": {
      "text/plain": [
       "False"
      ]
     },
     "execution_count": 34,
     "metadata": {},
     "output_type": "execute_result"
    }
   ],
   "source": [
    "Point(1, 1) in set([p1, p2])"
   ]
  },
  {
   "cell_type": "code",
   "execution_count": 35,
   "id": "e8e042ae",
   "metadata": {},
   "outputs": [
    {
     "data": {
      "text/plain": [
       "{<__main__.Point at 0x2086d75bc80>}"
      ]
     },
     "execution_count": 35,
     "metadata": {},
     "output_type": "execute_result"
    }
   ],
   "source": [
    "class Point(object):\n",
    "    def __init__(self, x, y):\n",
    "        self.x, self.y = x, y\n",
    "    \n",
    "    def __hash__(self):\n",
    "        return hash((self.x, self.y))\n",
    "    \n",
    "    def __eq__(self, other):\n",
    "        return self.x == other.x and self.y == other.y\n",
    "\n",
    "p1 = Point(1, 1)\n",
    "p2 = Point(1, 1)\n",
    "set([p1, p2])"
   ]
  },
  {
   "cell_type": "code",
   "execution_count": 36,
   "id": "e654a377",
   "metadata": {},
   "outputs": [
    {
     "data": {
      "text/plain": [
       "True"
      ]
     },
     "execution_count": 36,
     "metadata": {},
     "output_type": "execute_result"
    }
   ],
   "source": [
    "Point(1, 1) in set([p1, p2])"
   ]
  },
  {
   "cell_type": "code",
   "execution_count": null,
   "id": "0db8386d",
   "metadata": {},
   "outputs": [],
   "source": []
  }
 ],
 "metadata": {
  "kernelspec": {
   "display_name": "base",
   "language": "python",
   "name": "python3"
  },
  "language_info": {
   "codemirror_mode": {
    "name": "ipython",
    "version": 3
   },
   "file_extension": ".py",
   "mimetype": "text/x-python",
   "name": "python",
   "nbconvert_exporter": "python",
   "pygments_lexer": "ipython3",
   "version": "3.12.7"
  }
 },
 "nbformat": 4,
 "nbformat_minor": 5
}
