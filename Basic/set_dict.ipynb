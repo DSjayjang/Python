{
 "cells": [
  {
   "cell_type": "code",
   "execution_count": 20,
   "id": "186b4e95",
   "metadata": {},
   "outputs": [
    {
     "data": {
      "text/plain": [
       "2"
      ]
     },
     "execution_count": 20,
     "metadata": {},
     "output_type": "execute_result"
    }
   ],
   "source": [
    "# List에서 유니크한 key 찾기\n",
    "phonebook = [\n",
    "    ('John Doe', '555-555-5555'),\n",
    "    ('Albert Einstein', '212-555-5555')\n",
    "]\n",
    "\n",
    "def list_unique_names(phonebook):\n",
    "    unique_names = []\n",
    "    for name, phonenumber in phonebook:\n",
    "        first_name, last_name = name.split(' ', 1)\n",
    "        if first_name not in unique_names:\n",
    "            unique_names.append(first_name)    \n",
    "    return len(unique_names)\n",
    "\n",
    "list_unique_names(phonebook)"
   ]
  },
  {
   "cell_type": "code",
   "execution_count": null,
   "id": "033e4c25",
   "metadata": {},
   "outputs": [
    {
     "data": {
      "text/plain": [
       "2"
      ]
     },
     "execution_count": 16,
     "metadata": {},
     "output_type": "execute_result"
    }
   ],
   "source": [
    "# Set에서 유니크한 key 찾기\n",
    "phonebook = {\n",
    "    'John Doe': '555-555-5555',\n",
    "    'Albert Einstein': '212-555-5555'\n",
    "}\n",
    "\n",
    "def set_unique_names(phonebook):\n",
    "    unique_names = set()\n",
    "    for name, phonenumber in phonebook.items():\n",
    "        first_name, last_name = name.split(' ', 1)\n",
    "        unique_names.add(first_name)\n",
    "    \n",
    "    return len(unique_names)\n",
    "\n",
    "set_unique_names(phonebook)"
   ]
  },
  {
   "cell_type": "code",
   "execution_count": 33,
   "id": "f824a2c1",
   "metadata": {},
   "outputs": [
    {
     "data": {
      "text/plain": [
       "{<__main__.Point at 0x2086d3ad9a0>, <__main__.Point at 0x2086d75be90>}"
      ]
     },
     "execution_count": 33,
     "metadata": {},
     "output_type": "execute_result"
    }
   ],
   "source": [
    "class Point(object):\n",
    "    def __init__(self, x, y):\n",
    "        self.x, self.y = x, y\n",
    "\n",
    "p1 = Point(1, 1)\n",
    "p2 = Point(1, 1)\n",
    "set([p1, p2])"
   ]
  },
  {
   "cell_type": "code",
   "execution_count": 34,
   "id": "e66c068e",
   "metadata": {},
   "outputs": [
    {
     "data": {
      "text/plain": [
       "False"
      ]
     },
     "execution_count": 34,
     "metadata": {},
     "output_type": "execute_result"
    }
   ],
   "source": [
    "Point(1, 1) in set([p1, p2])"
   ]
  },
  {
   "cell_type": "code",
   "execution_count": 35,
   "id": "e8e042ae",
   "metadata": {},
   "outputs": [
    {
     "data": {
      "text/plain": [
       "{<__main__.Point at 0x2086d75bc80>}"
      ]
     },
     "execution_count": 35,
     "metadata": {},
     "output_type": "execute_result"
    }
   ],
   "source": [
    "class Point(object):\n",
    "    def __init__(self, x, y):\n",
    "        self.x, self.y = x, y\n",
    "    \n",
    "    def __hash__(self):\n",
    "        return hash((self.x, self.y))\n",
    "    \n",
    "    def __eq__(self, other):\n",
    "        return self.x == other.x and self.y == other.y\n",
    "\n",
    "p1 = Point(1, 1)\n",
    "p2 = Point(1, 1)\n",
    "set([p1, p2])"
   ]
  },
  {
   "cell_type": "code",
   "execution_count": 36,
   "id": "e654a377",
   "metadata": {},
   "outputs": [
    {
     "data": {
      "text/plain": [
       "True"
      ]
     },
     "execution_count": 36,
     "metadata": {},
     "output_type": "execute_result"
    }
   ],
   "source": [
    "Point(1, 1) in set([p1, p2])"
   ]
  },
  {
   "cell_type": "code",
   "execution_count": null,
   "id": "6713d189",
   "metadata": {},
   "outputs": [],
   "source": [
    "# 사전과 네임스페이스"
   ]
  },
  {
   "cell_type": "code",
   "execution_count": null,
   "id": "0db8386d",
   "metadata": {},
   "outputs": [
    {
     "name": "stdout",
     "output_type": "stream",
     "text": [
      "{'x': 10, 'y': 20}\n"
     ]
    }
   ],
   "source": [
    "# local 변수\n",
    "def example():\n",
    "    x = 10\n",
    "    y = 20\n",
    "    print(locals())\n",
    "\n",
    "example()"
   ]
  },
  {
   "cell_type": "code",
   "execution_count": 3,
   "id": "5045b448",
   "metadata": {},
   "outputs": [
    {
     "name": "stdout",
     "output_type": "stream",
     "text": [
      "{'__name__': '__main__', '__doc__': 'Automatically created module for IPython interactive environment', '__package__': None, '__loader__': None, '__spec__': None, '__builtin__': <module 'builtins' (built-in)>, '__builtins__': <module 'builtins' (built-in)>, '_ih': ['', 'def example():\\n    x = 10\\n    y = 20\\n    print(locals())\\n\\nexample()', '# global 변수\\nx = 100\\ny = 200\\n\\ndef example():\\n    print(locals())\\n\\nexample()', '# global 변수\\nx = 100\\ny = 200\\n\\ndef example():\\n    print(globals())\\n\\nexample()'], '_oh': {}, '_dh': [WindowsPath('c:/Programming/Github/Python/Basic')], 'In': ['', 'def example():\\n    x = 10\\n    y = 20\\n    print(locals())\\n\\nexample()', '# global 변수\\nx = 100\\ny = 200\\n\\ndef example():\\n    print(locals())\\n\\nexample()', '# global 변수\\nx = 100\\ny = 200\\n\\ndef example():\\n    print(globals())\\n\\nexample()'], 'Out': {}, 'get_ipython': <bound method InteractiveShell.get_ipython of <ipykernel.zmqshell.ZMQInteractiveShell object at 0x000002514E640680>>, 'exit': <IPython.core.autocall.ZMQExitAutocall object at 0x000002514E6409B0>, 'quit': <IPython.core.autocall.ZMQExitAutocall object at 0x000002514E6409B0>, 'open': <function open at 0x000002514C657740>, '_': '', '__': '', '___': '', '__vsc_ipynb_file__': 'c:\\\\Programming\\\\Github\\\\Python\\\\Basic\\\\set_dict.ipynb', '_i': '# global 변수\\nx = 100\\ny = 200\\n\\ndef example():\\n    print(locals())\\n\\nexample()', '_ii': 'def example():\\n    x = 10\\n    y = 20\\n    print(locals())\\n\\nexample()', '_iii': '', '_i1': 'def example():\\n    x = 10\\n    y = 20\\n    print(locals())\\n\\nexample()', 'example': <function example at 0x000002514EA10900>, '_i2': '# global 변수\\nx = 100\\ny = 200\\n\\ndef example():\\n    print(locals())\\n\\nexample()', 'x': 100, 'y': 200, '_i3': '# global 변수\\nx = 100\\ny = 200\\n\\ndef example():\\n    print(globals())\\n\\nexample()'}\n"
     ]
    }
   ],
   "source": [
    "# global 변수\n",
    "x = 100\n",
    "y = 200\n",
    "\n",
    "def example():\n",
    "    print(globals())\n",
    "\n",
    "example()"
   ]
  },
  {
   "cell_type": "code",
   "execution_count": 4,
   "id": "b498948e",
   "metadata": {},
   "outputs": [
    {
     "name": "stdout",
     "output_type": "stream",
     "text": [
      "['ArithmeticError', 'AssertionError', 'AttributeError', 'BaseException', 'BaseExceptionGroup', 'BlockingIOError', 'BrokenPipeError', 'BufferError', 'BytesWarning', 'ChildProcessError', 'ConnectionAbortedError', 'ConnectionError', 'ConnectionRefusedError', 'ConnectionResetError', 'DeprecationWarning', 'EOFError', 'Ellipsis', 'EncodingWarning', 'EnvironmentError', 'Exception', 'ExceptionGroup', 'False', 'FileExistsError', 'FileNotFoundError', 'FloatingPointError', 'FutureWarning', 'GeneratorExit', 'IOError', 'ImportError', 'ImportWarning', 'IndentationError', 'IndexError', 'InterruptedError', 'IsADirectoryError', 'KeyError', 'KeyboardInterrupt', 'LookupError', 'MemoryError', 'ModuleNotFoundError', 'NameError', 'None', 'NotADirectoryError', 'NotImplemented', 'NotImplementedError', 'OSError', 'OverflowError', 'PendingDeprecationWarning', 'PermissionError', 'ProcessLookupError', 'RecursionError', 'ReferenceError', 'ResourceWarning', 'RuntimeError', 'RuntimeWarning', 'StopAsyncIteration', 'StopIteration', 'SyntaxError', 'SyntaxWarning', 'SystemError', 'SystemExit', 'TabError', 'TimeoutError', 'True', 'TypeError', 'UnboundLocalError', 'UnicodeDecodeError', 'UnicodeEncodeError', 'UnicodeError', 'UnicodeTranslateError', 'UnicodeWarning', 'UserWarning', 'ValueError', 'Warning', 'WindowsError', 'ZeroDivisionError', '__IPYTHON__', '__build_class__', '__debug__', '__doc__', '__import__', '__loader__', '__name__', '__package__', '__spec__', 'abs', 'aiter', 'all', 'anext', 'any', 'ascii', 'bin', 'bool', 'breakpoint', 'bytearray', 'bytes', 'callable', 'chr', 'classmethod', 'compile', 'complex', 'copyright', 'credits', 'delattr', 'dict', 'dir', 'display', 'divmod', 'enumerate', 'eval', 'exec', 'execfile', 'filter', 'float', 'format', 'frozenset', 'get_ipython', 'getattr', 'globals', 'hasattr', 'hash', 'help', 'hex', 'id', 'input', 'int', 'isinstance', 'issubclass', 'iter', 'len', 'license', 'list', 'locals', 'map', 'max', 'memoryview', 'min', 'next', 'object', 'oct', 'open', 'ord', 'pow', 'print', 'property', 'range', 'repr', 'reversed', 'round', 'runfile', 'set', 'setattr', 'slice', 'sorted', 'staticmethod', 'str', 'sum', 'super', 'tuple', 'type', 'vars', 'zip']\n"
     ]
    }
   ],
   "source": [
    "import builtins\n",
    "\n",
    "print(dir(builtins))"
   ]
  },
  {
   "cell_type": "code",
   "execution_count": 7,
   "id": "84ef1915",
   "metadata": {},
   "outputs": [],
   "source": [
    "import math\n",
    "from math import sin\n",
    "\n",
    "def test1(x):\n",
    "    res = 1\n",
    "    for _ in range(1000):\n",
    "        res += math.sin(x)\n",
    "    \n",
    "    return res\n",
    "\n",
    "# global\n",
    "def test2(x):\n",
    "    res = 1\n",
    "    for _ in range(1000):\n",
    "        res += sin(x)\n",
    "    \n",
    "    return res\n",
    "\n",
    "# local\n",
    "def test3(x, sin = math.sin):\n",
    "    res = 1\n",
    "    for _ in range(1000):\n",
    "        res += sin(x)\n",
    "    \n",
    "    return res"
   ]
  },
  {
   "cell_type": "code",
   "execution_count": null,
   "id": "ee809c26",
   "metadata": {},
   "outputs": [],
   "source": []
  }
 ],
 "metadata": {
  "kernelspec": {
   "display_name": "base",
   "language": "python",
   "name": "python3"
  },
  "language_info": {
   "codemirror_mode": {
    "name": "ipython",
    "version": 3
   },
   "file_extension": ".py",
   "mimetype": "text/x-python",
   "name": "python",
   "nbconvert_exporter": "python",
   "pygments_lexer": "ipython3",
   "version": "3.12.7"
  }
 },
 "nbformat": 4,
 "nbformat_minor": 5
}
