{
 "cells": [
  {
   "cell_type": "code",
   "execution_count": null,
   "id": "029d5f83",
   "metadata": {},
   "outputs": [
    {
     "data": {
      "text/plain": [
       "[0, 1, 1, 2, 3, 5, 8, 13, 21, 34]"
      ]
     },
     "execution_count": 8,
     "metadata": {},
     "output_type": "execute_result"
    }
   ],
   "source": [
    "# 리스트를 사용한 피보나치 수열 구현\n",
    "def fibonacci_list(num_items):\n",
    "    numbers = []\n",
    "    a, b = 0, 1\n",
    "\n",
    "    while len(numbers) < num_items:\n",
    "        numbers.append(a)\n",
    "        a, b = b, a+b\n",
    "\n",
    "    return numbers\n",
    "\n",
    "fibonacci_list(10)"
   ]
  },
  {
   "cell_type": "code",
   "execution_count": 12,
   "id": "a61f40cb",
   "metadata": {},
   "outputs": [
    {
     "data": {
      "text/plain": [
       "<generator object fibonacci_gen at 0x0000021C42B6D8A0>"
      ]
     },
     "execution_count": 12,
     "metadata": {},
     "output_type": "execute_result"
    }
   ],
   "source": [
    "# 제너레이터를 사용한 피보나치 수열 구현\n",
    "def fibonacci_gen(num_items):\n",
    "    a, b = 0, 1\n",
    "\n",
    "    while num_items:\n",
    "        yield a\n",
    "        a, b = b, a+b\n",
    "        num_items -= 1\n",
    "\n",
    "fibonacci_gen(10)"
   ]
  },
  {
   "cell_type": "code",
   "execution_count": 45,
   "id": "28438e83",
   "metadata": {},
   "outputs": [
    {
     "name": "stdout",
     "output_type": "stream",
     "text": [
      "0\n",
      "1\n",
      "1\n",
      "2\n",
      "3\n",
      "5\n",
      "8\n"
     ]
    }
   ],
   "source": [
    "gen = fibonacci_gen(10)\n",
    "\n",
    "print(next(gen))\n",
    "print(next(gen))\n",
    "print(next(gen))\n",
    "print(next(gen))\n",
    "print(next(gen))\n",
    "print(next(gen))\n",
    "print(next(gen))\n"
   ]
  },
  {
   "cell_type": "code",
   "execution_count": null,
   "id": "ed883398",
   "metadata": {},
   "outputs": [
    {
     "name": "stdout",
     "output_type": "stream",
     "text": [
      "0\n",
      "1\n",
      "1\n",
      "2\n",
      "3\n",
      "5\n",
      "8\n",
      "13\n",
      "21\n",
      "34\n",
      "0\n",
      "1\n",
      "1\n",
      "2\n",
      "3\n",
      "5\n",
      "8\n",
      "13\n",
      "21\n",
      "34\n"
     ]
    }
   ],
   "source": [
    "# 이터레이터 동작 방식\n",
    "\n",
    "# The Python loop\n",
    "def fibonacci_list(num_items):\n",
    "    numbers = []\n",
    "    a, b = 0, 1\n",
    "\n",
    "    while len(numbers) < num_items:\n",
    "        numbers.append(a)\n",
    "        a, b = b, a+b\n",
    "\n",
    "    return numbers\n",
    "\n",
    "for i in fibonacci_list(10):\n",
    "    print(i)\n",
    "\n",
    "# is equivalent to\n",
    "object_iterator = iter(fibonacci_list(10))\n",
    "while True:\n",
    "    try:\n",
    "        i = next(object_iterator)\n",
    "    except StopIteration:\n",
    "        break\n",
    "    else:\n",
    "        print(i)"
   ]
  },
  {
   "cell_type": "code",
   "execution_count": null,
   "id": "d695f724",
   "metadata": {},
   "outputs": [
    {
     "name": "stdout",
     "output_type": "stream",
     "text": [
      "0\n",
      "1\n",
      "1\n",
      "2\n",
      "3\n",
      "5\n",
      "8\n",
      "13\n",
      "21\n",
      "34\n",
      "0\n",
      "1\n",
      "1\n",
      "2\n",
      "3\n",
      "5\n",
      "8\n",
      "13\n",
      "21\n",
      "34\n"
     ]
    }
   ],
   "source": [
    "# 이터레이터 동작 방식\n",
    "\n",
    "# The Python loop\n",
    "def fibonacci_gen(num_items):\n",
    "    a, b = 0, 1\n",
    "\n",
    "    while num_items:\n",
    "        yield a\n",
    "        a, b = b, a+b\n",
    "        num_items -= 1\n",
    "\n",
    "for i in fibonacci_gen(10):\n",
    "    print(i)\n",
    "\n",
    "# is equivalent to\n",
    "object_iterator = iter(fibonacci_gen(10))\n",
    "while True:\n",
    "    try:\n",
    "        i = next(object_iterator)\n",
    "    except StopIteration:\n",
    "        break\n",
    "    else:\n",
    "        print(i)"
   ]
  },
  {
   "cell_type": "code",
   "execution_count": null,
   "id": "79b48f52",
   "metadata": {},
   "outputs": [],
   "source": [
    "# 10만개의 피보나치 수열을 계산 후 3으로 나누어 질 때만 리스트에 저장하여 길이를 구함.\n",
    "# 비효율적임\n",
    "divisible_by_three = len([n for n in fibonacci_gen(100_000) if n % 3 == 0])\n",
    "divisible_by_three # 25000"
   ]
  },
  {
   "cell_type": "code",
   "execution_count": null,
   "id": "e21fb80c",
   "metadata": {},
   "outputs": [
    {
     "data": {
      "text/plain": [
       "25000"
      ]
     },
     "execution_count": 64,
     "metadata": {},
     "output_type": "execute_result"
    }
   ],
   "source": [
    "# 제너레이터를 이용하면 아래와 같이 만들 수 있음\n",
    "divisible_by_three = sum(1 for n in fibonacci_gen(100_000) if n % 3 == 0)\n",
    "divisible_by_three # 25000\n",
    "\n",
    "# 내가 만든 것\n",
    "gen = fibonacci_gen(100_000)\n",
    "count = 0\n",
    "for _ in gen:\n",
    "    if (next(gen) % 3 == 0):\n",
    "        count += 1\n",
    "count\n"
   ]
  },
  {
   "cell_type": "code",
   "execution_count": null,
   "id": "1b874d39",
   "metadata": {},
   "outputs": [],
   "source": [
    "# 무한 피보나치 수열\n",
    "def fibonacci():\n",
    "    i, j = 0, 1\n",
    "    while True:\n",
    "        yield j\n",
    "        i, j = j, i+j\n",
    "        if (j % 2 == 1):\n",
    "            count += 1\n",
    "\n",
    "# 1. 피보나치 수열 안에서 한번에 조건을 넣어둠\n",
    "# 읽기가 불편하다. 나중에 디버깅이 어려울수도.\n",
    "def fibonacci_naive():\n",
    "    i, j = 0, 1\n",
    "    count = 0\n",
    "\n",
    "    while j <= 5000:\n",
    "        if j % 2:\n",
    "            count += 1\n",
    "        i, j = j, i+j\n",
    "    return count\n",
    "\n",
    "\n",
    "# 2. 피보나치 수열 함수와 조건을 분리해 놓음\n",
    "# 1번 보다 디버깅이 좋음\n",
    "# 읽기 편하고 재사용하기 편함\n",
    "def fibonacci_transform():\n",
    "    count = 0\n",
    "\n",
    "    for f in fibonacci():\n",
    "        if f > 5000:\n",
    "            break\n",
    "        if f % 2:\n",
    "            count += 1\n",
    "    return count\n",
    "\n",
    "\n",
    "# 3. 파이썬스럽지 않다.\n",
    "from itertools import takewhile\n",
    "def fibonacci_succint():\n",
    "    first_5000 = takewhile(lambda x: x <= 5000, fibonacci())\n",
    "\n",
    "    return sum(1 for x in first_5000 if x % 2)"
   ]
  },
  {
   "cell_type": "code",
   "execution_count": 67,
   "id": "40f79ab5",
   "metadata": {},
   "outputs": [
    {
     "data": {
      "text/plain": [
       "13"
      ]
     },
     "execution_count": 67,
     "metadata": {},
     "output_type": "execute_result"
    }
   ],
   "source": [
    "import random\n",
    "\n",
    "random.randint(0, 100)"
   ]
  },
  {
   "cell_type": "code",
   "execution_count": null,
   "id": "30518603",
   "metadata": {},
   "outputs": [],
   "source": []
  }
 ],
 "metadata": {
  "kernelspec": {
   "display_name": "base",
   "language": "python",
   "name": "python3"
  },
  "language_info": {
   "codemirror_mode": {
    "name": "ipython",
    "version": 3
   },
   "file_extension": ".py",
   "mimetype": "text/x-python",
   "name": "python",
   "nbconvert_exporter": "python",
   "pygments_lexer": "ipython3",
   "version": "3.12.7"
  }
 },
 "nbformat": 4,
 "nbformat_minor": 5
}
