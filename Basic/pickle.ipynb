{
 "cells": [
  {
   "cell_type": "code",
   "execution_count": 6,
   "id": "8bd11106",
   "metadata": {},
   "outputs": [
    {
     "data": {
      "text/plain": [
       "{1: {'no': 1, 'subject': '안녕 피클', 'content': '피클은 매우 간단합니다.'}}"
      ]
     },
     "execution_count": 6,
     "metadata": {},
     "output_type": "execute_result"
    }
   ],
   "source": [
    "import pickle\n",
    "\n",
    "data = {}\n",
    "data[1] = {'no': 1, 'subject': '안녕 피클', 'content': '피클은 매우 간단합니다.'}\n",
    "\n",
    "# 저장\n",
    "with open('data.p', 'wb') as f:\n",
    "    pickle.dump(data, f)\n",
    "\n",
    "# 불러오기\n",
    "with open('data.p', 'rb') as f:\n",
    "    data2 = pickle.load(f)\n",
    "data2"
   ]
  },
  {
   "cell_type": "code",
   "execution_count": 12,
   "id": "f4ca3fce",
   "metadata": {},
   "outputs": [
    {
     "name": "stdout",
     "output_type": "stream",
     "text": [
      "1\n",
      "피클\n",
      "피클은 맛없다.\n"
     ]
    }
   ],
   "source": [
    "import pickle\n",
    "\n",
    "def get_all_data():\n",
    "    try:\n",
    "        with open('data.p', 'rb') as f:\n",
    "            return pickle.load(f)\n",
    "    except FileNotFoundError:\n",
    "        return {}\n",
    "\n",
    "def add_data(no, subject, content):\n",
    "    data = get_all_data()\n",
    "    assert no not in data # 중복 방지\n",
    "    data[no] = {'no': no, 'subject': subject, 'content': content}\n",
    "    with open('data.p', 'wb') as f:\n",
    "        pickle.dump(data, f)\n",
    "\n",
    "def get_data(no):\n",
    "    data = get_all_data()\n",
    "    return data[no]\n",
    "\n",
    "# 데이터 저장\n",
    "add_data(1, '피클', '피클은 맛없다.')\n",
    "\n",
    "# 데이터 조회\n",
    "data = get_data(1)\n",
    "print(data['no'])\n",
    "print(data['subject'])\n",
    "print(data['content'])\n"
   ]
  },
  {
   "cell_type": "code",
   "execution_count": null,
   "id": "f02c326b",
   "metadata": {},
   "outputs": [],
   "source": []
  }
 ],
 "metadata": {
  "kernelspec": {
   "display_name": "base",
   "language": "python",
   "name": "python3"
  },
  "language_info": {
   "codemirror_mode": {
    "name": "ipython",
    "version": 3
   },
   "file_extension": ".py",
   "mimetype": "text/x-python",
   "name": "python",
   "nbconvert_exporter": "python",
   "pygments_lexer": "ipython3",
   "version": "3.12.3"
  }
 },
 "nbformat": 4,
 "nbformat_minor": 5
}
