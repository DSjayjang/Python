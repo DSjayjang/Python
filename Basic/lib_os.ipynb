{
 "cells": [
  {
   "cell_type": "code",
   "execution_count": 5,
   "id": "d692e88f",
   "metadata": {},
   "outputs": [
    {
     "name": "stdout",
     "output_type": "stream",
     "text": [
      "C:\\Programming\\Github\\Python\\Asynchronous\\asynchronous.py\n",
      "C:\\Programming\\Github\\Python\\Basic\\list_tuple.py\n",
      "C:\\Programming\\Github\\Python\\Multiprocessing\\multiprocessing_search_base.py\n",
      "C:\\Programming\\Github\\Python\\Multiprocessing\\multiprocessing_search_base_raw.py\n",
      "C:\\Programming\\Github\\Python\\Optimization\\main_list.py\n",
      "C:\\Programming\\Github\\Python\\Optimization\\main_numpy.py\n",
      "C:\\Programming\\Github\\Python\\Optimization\\Task1_cython\\main_list.py\n",
      "C:\\Programming\\Github\\Python\\Optimization\\Task1_cython\\setup.py\n",
      "C:\\Programming\\Github\\Python\\Optimization\\Task2_pypy\\main_list.py\n",
      "C:\\Programming\\Github\\Python\\Optimization\\Task3_cython_openmp\\main_numpy.py\n",
      "C:\\Programming\\Github\\Python\\Optimization\\Task3_cython_openmp\\setup.py\n",
      "C:\\Programming\\Github\\Python\\Optimization\\Task4_numba\\main_numpy.py\n"
     ]
    },
    {
     "name": "stderr",
     "output_type": "stream",
     "text": [
      "<>:18: SyntaxWarning: invalid escape sequence '\\P'\n",
      "<>:18: SyntaxWarning: invalid escape sequence '\\P'\n",
      "C:\\Users\\user\\AppData\\Local\\Temp\\ipykernel_10968\\773748035.py:18: SyntaxWarning: invalid escape sequence '\\P'\n",
      "  search('C:\\Programming\\Github\\Python')\n"
     ]
    }
   ],
   "source": [
    "import os\n",
    "\n",
    "def search(dirname):\n",
    "    filenames = os.listdir(dirname)\n",
    "\n",
    "    for filename in filenames:\n",
    "        filepath = os.path.join(dirname, filename)\n",
    "\n",
    "        if os.path.isdir(filepath):\n",
    "            search(filepath)\n",
    "        \n",
    "        elif os.path.isfile(filepath):\n",
    "            name, ext = os.path.splitext(filepath)\n",
    "\n",
    "            if ext == '.py':\n",
    "                print(filepath)\n",
    "\n",
    "search('C:\\Programming\\Github\\Python')"
   ]
  },
  {
   "cell_type": "code",
   "execution_count": null,
   "id": "de5622ac",
   "metadata": {},
   "outputs": [],
   "source": []
  }
 ],
 "metadata": {
  "kernelspec": {
   "display_name": "base",
   "language": "python",
   "name": "python3"
  },
  "language_info": {
   "codemirror_mode": {
    "name": "ipython",
    "version": 3
   },
   "file_extension": ".py",
   "mimetype": "text/x-python",
   "name": "python",
   "nbconvert_exporter": "python",
   "pygments_lexer": "ipython3",
   "version": "3.12.7"
  }
 },
 "nbformat": 4,
 "nbformat_minor": 5
}
