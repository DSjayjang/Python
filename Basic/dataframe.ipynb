{
 "cells": [
  {
   "cell_type": "code",
   "execution_count": null,
   "id": "7c5a71ca",
   "metadata": {},
   "outputs": [],
   "source": [
    "# OLS 계산하기 - 사이킷런\n",
    "import numpy as np\n",
    "from sklearn import LinearRegression\n",
    "\n",
    "def ols_sklearn(row):\n",
    "    \"\"\"Solve OLS using scikit-learn's LinearRegression\"\"\"\n",
    "    est = LinearRegression()\n",
    "    X = np.arange(row.shape[0]).reshape(-1, 1) # shape (14, 1)\n",
    "    # note that the intercept is built inside LinearRegression\n",
    "    est.fit(X, row.values)\n",
    "    m = est.coef_[0] # note c is in est.intercept_\n",
    "\n",
    "    return m"
   ]
  },
  {
   "cell_type": "code",
   "execution_count": null,
   "id": "c46f5869",
   "metadata": {},
   "outputs": [],
   "source": [
    "# OLS 계산하기 - 넘파이\n",
    "import numpy as np\n",
    "\n",
    "def ols_lstsq(row):\n",
    "    \"\"\"Solve OLS using numpy.linalg.lstsq\"\"\"\n",
    "    # build X values for [0, 13]\n",
    "    X = np.arange(row.shape[0])\n",
    "    ones = np.ones(row.shape[0])\n",
    "    A = np.vstack((X, ones)).T\n",
    "    # lstsq returns the coefficient and intercept as the first result\n",
    "    # followed by the residuals and other items\n",
    "    m, c = np.linalg.lstsq(A, row.values, rcond = -1)[0]\n",
    "\n",
    "    return m"
   ]
  },
  {
   "cell_type": "code",
   "execution_count": null,
   "id": "ff6607f9",
   "metadata": {},
   "outputs": [],
   "source": [
    "def ols_lstsq_raw(row):\n",
    "    \"\"\"Variant of 'ols_lstsq' where row is a numpy array (not a Series)\"\"\"\n",
    "    X = np.arange(row.shape[0])\n",
    "    ones = np.ones(row.shape[0])\n",
    "    A = np.vstack((X, ones)).T\n",
    "    m, c = np.linalg.lstsq(A, row, rcond = -1)[0]\n",
    "\n",
    "    return m"
   ]
  },
  {
   "cell_type": "code",
   "execution_count": null,
   "id": "2938e546",
   "metadata": {},
   "outputs": [],
   "source": [
    "# 나쁜 구현: iloc를 사용해 한번에 한 행씩 가져와서 계산\n",
    "ms = []\n",
    "for row_idx in range(df.shape[0]):\n",
    "    row = df.iloc[row_idx]\n",
    "    m = ols_lstsq(row)\n",
    "    ms.append(m)\n",
    "\n",
    "results = pd.Series(ms)"
   ]
  },
  {
   "cell_type": "code",
   "execution_count": null,
   "id": "362135f5",
   "metadata": {},
   "outputs": [],
   "source": [
    "# 조금 더 나은 코드\n",
    "ms = []\n",
    "for row_idx, row in df.iterrows():\n",
    "    m = ols_lstsq(row)\n",
    "    ms.append(m)\n",
    "\n",
    "results = pd.Series(ms)"
   ]
  },
  {
   "cell_type": "code",
   "execution_count": null,
   "id": "9f37dd27",
   "metadata": {},
   "outputs": [],
   "source": [
    "# 더 나은 코드\n",
    "ms = df.apply(ols_lstsq, axis = 1, raw = True)\n",
    "results = pd.Series(ms)"
   ]
  },
  {
   "cell_type": "code",
   "execution_count": null,
   "id": "26505088",
   "metadata": {},
   "outputs": [],
   "source": [
    "# 나쁜 코드\n",
    "results = None\n",
    "\n",
    "for row_idx in range(df.shape[0]):\n",
    "    row = df.iloc[row_idx]\n",
    "    m = ols_lstsq(row)\n",
    "    if results is None:\n",
    "        results = pd.Series([m])\n",
    "    else:\n",
    "        results = pd.concat((results, pd.Series([m])))"
   ]
  }
 ],
 "metadata": {
  "language_info": {
   "name": "python"
  }
 },
 "nbformat": 4,
 "nbformat_minor": 5
}
