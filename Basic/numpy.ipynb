{
 "cells": [
  {
   "cell_type": "code",
   "execution_count": 3,
   "id": "c3275684",
   "metadata": {},
   "outputs": [
    {
     "name": "stdout",
     "output_type": "stream",
     "text": [
      "2001341703312\n",
      "2001341703312\n",
      "2001347372752\n"
     ]
    }
   ],
   "source": [
    "import numpy as np\n",
    "\n",
    "array1 = np.random.random((10, 10))\n",
    "array2 = np.random.random((10, 10))\n",
    "\n",
    "# (1)\n",
    "print(id(array1))\n",
    "\n",
    "# (2)\n",
    "array1 += array2 # 제자리연산\n",
    "print(id(array1)) # (1)과 위치가 같음\n",
    "\n",
    "# (3)\n",
    "array1 = array1 + array2\n",
    "print(id(array1)) # (1)과 위치가 다름 / 공간이 새로 만들어짐"
   ]
  }
 ],
 "metadata": {
  "kernelspec": {
   "display_name": "base",
   "language": "python",
   "name": "python3"
  },
  "language_info": {
   "codemirror_mode": {
    "name": "ipython",
    "version": 3
   },
   "file_extension": ".py",
   "mimetype": "text/x-python",
   "name": "python",
   "nbconvert_exporter": "python",
   "pygments_lexer": "ipython3",
   "version": "3.12.3"
  }
 },
 "nbformat": 4,
 "nbformat_minor": 5
}
