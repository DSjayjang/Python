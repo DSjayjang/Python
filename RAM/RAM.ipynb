{
 "cells": [
  {
   "cell_type": "code",
   "execution_count": 4,
   "id": "e8356a99",
   "metadata": {},
   "outputs": [
    {
     "name": "stdout",
     "output_type": "stream",
     "text": [
      "The memory_profiler extension is already loaded. To reload it, use:\n",
      "  %reload_ext memory_profiler\n"
     ]
    }
   ],
   "source": [
    "%load_ext memory_profiler"
   ]
  },
  {
   "cell_type": "code",
   "execution_count": null,
   "id": "c130f323",
   "metadata": {},
   "outputs": [],
   "source": [
    "%memit\n",
    "%memit [n for n in range(int(1e8))]"
   ]
  },
  {
   "cell_type": "code",
   "execution_count": 10,
   "id": "85ae1792",
   "metadata": {},
   "outputs": [
    {
     "name": "stdout",
     "output_type": "stream",
     "text": [
      "28\n",
      "28\n",
      "28\n",
      "28\n"
     ]
    }
   ],
   "source": [
    "import sys\n",
    "\n",
    "print(sys.getsizeof(0))\n",
    "print(sys.getsizeof(1))\n",
    "print(sys.getsizeof((2*30)-1))\n",
    "print(sys.getsizeof((2*30)))\n"
   ]
  },
  {
   "cell_type": "code",
   "execution_count": 9,
   "id": "577190e5",
   "metadata": {},
   "outputs": [
    {
     "name": "stdout",
     "output_type": "stream",
     "text": [
      "33\n",
      "34\n",
      "35\n",
      "36\n"
     ]
    }
   ],
   "source": [
    "import sys\n",
    "\n",
    "print(sys.getsizeof(b\"\"))\n",
    "print(sys.getsizeof(b\"a\"))\n",
    "print(sys.getsizeof((b\"ab\")))\n",
    "print(sys.getsizeof((b\"abc\")))\n"
   ]
  },
  {
   "cell_type": "code",
   "execution_count": 12,
   "id": "f0c8fe02",
   "metadata": {},
   "outputs": [
    {
     "name": "stdout",
     "output_type": "stream",
     "text": [
      "56\n",
      "64\n",
      "72\n"
     ]
    }
   ],
   "source": [
    "import sys\n",
    "\n",
    "print(sys.getsizeof([]))\n",
    "print(sys.getsizeof([1]))\n",
    "print(sys.getsizeof(([1, 2])))"
   ]
  },
  {
   "cell_type": "code",
   "execution_count": 13,
   "id": "f11a8c7b",
   "metadata": {},
   "outputs": [
    {
     "name": "stdout",
     "output_type": "stream",
     "text": [
      "64\n",
      "64\n",
      "72\n"
     ]
    }
   ],
   "source": [
    "import sys\n",
    "\n",
    "print(sys.getsizeof([b\"\"]))\n",
    "print(sys.getsizeof([b\"abcdefghijklm\"]))\n",
    "print(sys.getsizeof(([b\"a\", b\"b\"])))"
   ]
  },
  {
   "cell_type": "code",
   "execution_count": null,
   "id": "7a6d04f1",
   "metadata": {},
   "outputs": [],
   "source": []
  }
 ],
 "metadata": {
  "kernelspec": {
   "display_name": "base",
   "language": "python",
   "name": "python3"
  },
  "language_info": {
   "codemirror_mode": {
    "name": "ipython",
    "version": 3
   },
   "file_extension": ".py",
   "mimetype": "text/x-python",
   "name": "python",
   "nbconvert_exporter": "python",
   "pygments_lexer": "ipython3",
   "version": "3.12.3"
  }
 },
 "nbformat": 4,
 "nbformat_minor": 5
}
