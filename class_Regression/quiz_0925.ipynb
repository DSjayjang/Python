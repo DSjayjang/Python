{
 "cells": [
  {
   "cell_type": "code",
   "execution_count": 6,
   "id": "703b758d",
   "metadata": {},
   "outputs": [],
   "source": [
    "import numpy as np\n",
    "from scipy.stats import t"
   ]
  },
  {
   "cell_type": "code",
   "execution_count": 7,
   "id": "f5ad2579",
   "metadata": {},
   "outputs": [],
   "source": [
    "bar_x = 8.3\n",
    "bar_y = 54.8\n",
    "\n",
    "sxx = 5.6\n",
    "sxy = -12.4\n",
    "syy = 38.7\n",
    "\n",
    "n = 15\n",
    "df = n-2\n",
    "alpha = 0.05"
   ]
  },
  {
   "cell_type": "markdown",
   "id": "ad2b423a",
   "metadata": {},
   "source": [
    "# 1번"
   ]
  },
  {
   "cell_type": "code",
   "execution_count": 8,
   "id": "0af351a0",
   "metadata": {},
   "outputs": [
    {
     "name": "stdout",
     "output_type": "stream",
     "text": [
      "73.17857142857143\n",
      "-2.2142857142857144\n"
     ]
    }
   ],
   "source": [
    "# (a)\n",
    "hat_beta1 = sxy/sxx\n",
    "hat_beta0 = bar_y - hat_beta1 * bar_x\n",
    "\n",
    "print(hat_beta0)\n",
    "print(hat_beta1)\n"
   ]
  },
  {
   "cell_type": "code",
   "execution_count": null,
   "id": "366e6256",
   "metadata": {},
   "outputs": [
    {
     "name": "stdout",
     "output_type": "stream",
     "text": [
      "11.24285714285714\n",
      "0.8648351648351646\n",
      "-0.5452812477391458\n"
     ]
    }
   ],
   "source": [
    "# (b) -2 단측검정 (왼쪽)\n",
    "SSE = syy - np.power(sxy,2)/sxx\n",
    "s2 = SSE/(n-2)\n",
    "t0 = (hat_beta1 - (-2))/(np.sqrt(s2/sxx))\n",
    "\n",
    "print(SSE)\n",
    "print(s2)\n",
    "print(t0)"
   ]
  },
  {
   "cell_type": "code",
   "execution_count": null,
   "id": "18ceac85",
   "metadata": {},
   "outputs": [
    {
     "data": {
      "text/plain": [
       "-1.7709333959867992"
      ]
     },
     "execution_count": 25,
     "metadata": {},
     "output_type": "execute_result"
    }
   ],
   "source": [
    "t.ppf(alpha, df)\n",
    "# 기각 못한다. t0 = -0.545 > -1.177"
   ]
  },
  {
   "cell_type": "code",
   "execution_count": 15,
   "id": "9beb0233",
   "metadata": {},
   "outputs": [
    {
     "data": {
      "text/plain": [
       "73.17857142857143"
      ]
     },
     "execution_count": 15,
     "metadata": {},
     "output_type": "execute_result"
    }
   ],
   "source": [
    "hat_beta0"
   ]
  },
  {
   "cell_type": "code",
   "execution_count": 14,
   "id": "6ac33c5e",
   "metadata": {},
   "outputs": [
    {
     "data": {
      "text/plain": [
       "51.035714285714285"
      ]
     },
     "execution_count": 14,
     "metadata": {},
     "output_type": "execute_result"
    }
   ],
   "source": [
    "# (c) 신뢰구간\n",
    "x = 10\n",
    "y = hat_beta0 + hat_beta1 * x\n",
    "y"
   ]
  },
  {
   "cell_type": "code",
   "execution_count": 20,
   "id": "df0c84db",
   "metadata": {},
   "outputs": [
    {
     "data": {
      "text/plain": [
       "2.1603686564610127"
      ]
     },
     "execution_count": 20,
     "metadata": {},
     "output_type": "execute_result"
    }
   ],
   "source": [
    "t.ppf(1-alpha/2, df) "
   ]
  },
  {
   "cell_type": "code",
   "execution_count": 17,
   "id": "d999b57b",
   "metadata": {},
   "outputs": [
    {
     "data": {
      "text/plain": [
       "0.7099101327991928"
      ]
     },
     "execution_count": 17,
     "metadata": {},
     "output_type": "execute_result"
    }
   ],
   "source": [
    "np.sqrt(s2 * (1/n+(x-bar_x)**2/sxx))"
   ]
  },
  {
   "cell_type": "code",
   "execution_count": 22,
   "id": "13d798be",
   "metadata": {},
   "outputs": [
    {
     "data": {
      "text/plain": [
       "1.5336675998034512"
      ]
     },
     "execution_count": 22,
     "metadata": {},
     "output_type": "execute_result"
    }
   ],
   "source": [
    "t.ppf(1-alpha/2, df) * np.sqrt(s2 * (1/n+(x-bar_x)**2/sxx))"
   ]
  },
  {
   "cell_type": "code",
   "execution_count": 18,
   "id": "273714aa",
   "metadata": {},
   "outputs": [
    {
     "data": {
      "text/plain": [
       "49.502046685910834"
      ]
     },
     "execution_count": 18,
     "metadata": {},
     "output_type": "execute_result"
    }
   ],
   "source": [
    "y - t.ppf(1-alpha/2, df) * np.sqrt(s2 * (1/n+(x-bar_x)**2/sxx))"
   ]
  },
  {
   "cell_type": "code",
   "execution_count": 19,
   "id": "3e8751bd",
   "metadata": {},
   "outputs": [
    {
     "data": {
      "text/plain": [
       "52.569381885517735"
      ]
     },
     "execution_count": 19,
     "metadata": {},
     "output_type": "execute_result"
    }
   ],
   "source": [
    "y + t.ppf(1-alpha/2, df) * np.sqrt(s2 * (1/n+(x-bar_x)**2/sxx))"
   ]
  },
  {
   "cell_type": "markdown",
   "id": "dfed8293",
   "metadata": {},
   "source": [
    "# 2번"
   ]
  },
  {
   "cell_type": "code",
   "execution_count": null,
   "id": "bf0759fe",
   "metadata": {},
   "outputs": [
    {
     "name": "stdout",
     "output_type": "stream",
     "text": [
      "38.7\n",
      "27.457142857142863\n",
      "11.24285714285714\n"
     ]
    }
   ],
   "source": [
    "# (a)\n",
    "SST = syy\n",
    "SSR = sxy**2/sxx\n",
    "SSE = SST- SSR\n",
    "\n",
    "print(SST)\n",
    "print(SSR)\n",
    "print(SSE)"
   ]
  },
  {
   "cell_type": "code",
   "execution_count": 25,
   "id": "4ca4dc11",
   "metadata": {},
   "outputs": [
    {
     "data": {
      "text/plain": [
       "0.7094868955334073"
      ]
     },
     "execution_count": 25,
     "metadata": {},
     "output_type": "execute_result"
    }
   ],
   "source": [
    "# (b)\n",
    "r2 = SSR/SST\n",
    "r2"
   ]
  },
  {
   "cell_type": "markdown",
   "id": "baf0c094",
   "metadata": {},
   "source": [
    "# 3번"
   ]
  },
  {
   "cell_type": "code",
   "execution_count": 32,
   "id": "e47e0836",
   "metadata": {},
   "outputs": [],
   "source": [
    "hat_beta0 = 12.5\n",
    "hat_beta1 = -1.2\n",
    "s_sqrt_sxx = 0.45\n",
    "s = 3\n",
    "bar_x = 3.2\n",
    "n = 21\n",
    "df = n-2\n",
    "alpha=0.05"
   ]
  },
  {
   "cell_type": "code",
   "execution_count": null,
   "id": "c377a8fd",
   "metadata": {},
   "outputs": [
    {
     "data": {
      "text/plain": [
       "(8.9, 7.7)"
      ]
     },
     "execution_count": 29,
     "metadata": {},
     "output_type": "execute_result"
    }
   ],
   "source": [
    "# (a)\n",
    "y1 = hat_beta0 + hat_beta1 * 3\n",
    "y2 = hat_beta0 + hat_beta1 * 4\n",
    "y1,y2\n",
    "\n",
    "# True"
   ]
  },
  {
   "cell_type": "code",
   "execution_count": null,
   "id": "920f8951",
   "metadata": {},
   "outputs": [],
   "source": [
    "# (b)\n",
    "# True"
   ]
  },
  {
   "cell_type": "code",
   "execution_count": 30,
   "id": "919c3139",
   "metadata": {},
   "outputs": [
    {
     "data": {
      "text/plain": [
       "1.777777777777778"
      ]
     },
     "execution_count": 30,
     "metadata": {},
     "output_type": "execute_result"
    }
   ],
   "source": [
    "# (c)\n",
    "t0 = (hat_beta1 - (-2)) / s_sqrt_sxx\n",
    "t0"
   ]
  },
  {
   "cell_type": "code",
   "execution_count": null,
   "id": "38883628",
   "metadata": {},
   "outputs": [
    {
     "data": {
      "text/plain": [
       "1.729132811521367"
      ]
     },
     "execution_count": 33,
     "metadata": {},
     "output_type": "execute_result"
    }
   ],
   "source": [
    "t.ppf(1-alpha, df)\n",
    "# 귀무가설 기각"
   ]
  }
 ],
 "metadata": {
  "kernelspec": {
   "display_name": "base",
   "language": "python",
   "name": "python3"
  },
  "language_info": {
   "codemirror_mode": {
    "name": "ipython",
    "version": 3
   },
   "file_extension": ".py",
   "mimetype": "text/x-python",
   "name": "python",
   "nbconvert_exporter": "python",
   "pygments_lexer": "ipython3",
   "version": "3.12.7"
  }
 },
 "nbformat": 4,
 "nbformat_minor": 5
}
