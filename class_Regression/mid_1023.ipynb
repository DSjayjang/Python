{
 "cells": [
  {
   "cell_type": "code",
   "execution_count": 17,
   "metadata": {},
   "outputs": [],
   "source": [
    "import numpy as np"
   ]
  },
  {
   "cell_type": "markdown",
   "id": "604b6683",
   "metadata": {},
   "source": [
    "# 1번"
   ]
  },
  {
   "cell_type": "code",
   "execution_count": 9,
   "id": "7b15bf2e",
   "metadata": {},
   "outputs": [
    {
     "name": "stdout",
     "output_type": "stream",
     "text": [
      "Var(Y) = 0.005011111111111111\n",
      "Cov(Y,X) = 0.003031657961235426\n"
     ]
    }
   ],
   "source": [
    "# (1) Var(Y)\n",
    "print('Var(Y) =', (0.0358+0.05440)/18)\n",
    "\n",
    "# (1) Cov(Y,X)\n",
    "print('Cov(Y,X) =', 0.0358/(0.656040*18))"
   ]
  },
  {
   "cell_type": "code",
   "execution_count": 10,
   "id": "1547dfa1",
   "metadata": {},
   "outputs": [
    {
     "name": "stdout",
     "output_type": "stream",
     "text": [
      "y_1972 = 0.498529\n"
     ]
    }
   ],
   "source": [
    "# (2) 1972년의 참여율\n",
    "print('y_1972 =', 0.203311 + 0.656040 * 0.45)"
   ]
  },
  {
   "cell_type": "code",
   "execution_count": 30,
   "id": "8b53f610",
   "metadata": {},
   "outputs": [
    {
     "name": "stdout",
     "output_type": "stream",
     "text": [
      "se = 0.01604980370068149\n",
      "t*se = 0.033865085808437945\n",
      "0.46466391419156206 0.532394085808438\n"
     ]
    }
   ],
   "source": [
    "# (3) 95% 신뢰구간\n",
    "t = 2.11\n",
    "se = 0.0566 * np.sqrt((1/19) + np.power(0.45-0.5, 2) / (18*0.005))\n",
    "print('se =', se)\n",
    "print('t*se =', t*se)\n",
    "print(0.498529 - t*se, 0.498529 + t*se)\n"
   ]
  },
  {
   "cell_type": "code",
   "execution_count": 32,
   "id": "2a9878e7",
   "metadata": {},
   "outputs": [
    {
     "name": "stdout",
     "output_type": "stream",
     "text": [
      "t*se = 0.41377099999999994\n",
      "0.242269 1.0698109999999998\n"
     ]
    }
   ],
   "source": [
    "# (4) 95% 신뢰구간\n",
    "t = 2.11\n",
    "se = 0.1961\n",
    "print('t*se =', t*se)\n",
    "print(0.656040 - t*se, 0.656040 + t*se)"
   ]
  },
  {
   "cell_type": "code",
   "execution_count": 34,
   "id": "098eca6c",
   "metadata": {},
   "outputs": [
    {
     "name": "stdout",
     "output_type": "stream",
     "text": [
      "t0 = -1.7540030596634373\n"
     ]
    }
   ],
   "source": [
    "# (5) 가설검정\n",
    "t0 = (0.656040-1)/0.1961\n",
    "t = 1.74\n",
    "print('t0 =', t0)"
   ]
  },
  {
   "cell_type": "markdown",
   "id": "dcbc3fe8",
   "metadata": {},
   "source": [
    "# 4번"
   ]
  },
  {
   "cell_type": "code",
   "execution_count": 38,
   "id": "d2c63177",
   "metadata": {},
   "outputs": [
    {
     "name": "stdout",
     "output_type": "stream",
     "text": [
      "D1 = 0.019756097560975606\n",
      "D2 = 1.0820454545454543\n",
      "D3 = 0.14583333333333331\n",
      "D1 = 0.026341463414634142\n",
      "D2 = 1.4427272727272724\n",
      "D3 = 0.1944444444444444\n"
     ]
    }
   ],
   "source": [
    "# (1)\n",
    "D1 = (np.power(-0.6, 2)/4) * 0.18/(1-0.18)\n",
    "D2 = (np.power(2.3, 2)/4) * 0.45/(1-0.45)\n",
    "D3 = (np.power(0.5, 2)/4) * 0.70/(1-0.70)\n",
    "\n",
    "print('D1 =', D1)\n",
    "print('D2 =', D2)\n",
    "print('D3 =', D3)\n",
    "\n",
    "# (1)\n",
    "D1 = (np.power(-0.6, 2)/3) * 0.18/(1-0.18)\n",
    "D2 = (np.power(2.3, 2)/3) * 0.45/(1-0.45)\n",
    "D3 = (np.power(0.5, 2)/3) * 0.70/(1-0.70)\n",
    "\n",
    "print('D1 =', D1)\n",
    "print('D2 =', D2)\n",
    "print('D3 =', D3)\n"
   ]
  },
  {
   "cell_type": "code",
   "execution_count": null,
   "id": "58457631",
   "metadata": {},
   "outputs": [],
   "source": []
  }
 ],
 "metadata": {
  "kernelspec": {
   "display_name": "base",
   "language": "python",
   "name": "python3"
  },
  "language_info": {
   "codemirror_mode": {
    "name": "ipython",
    "version": 3
   },
   "file_extension": ".py",
   "mimetype": "text/x-python",
   "name": "python",
   "nbconvert_exporter": "python",
   "pygments_lexer": "ipython3",
   "version": "3.12.3"
  }
 },
 "nbformat": 4,
 "nbformat_minor": 5
}
